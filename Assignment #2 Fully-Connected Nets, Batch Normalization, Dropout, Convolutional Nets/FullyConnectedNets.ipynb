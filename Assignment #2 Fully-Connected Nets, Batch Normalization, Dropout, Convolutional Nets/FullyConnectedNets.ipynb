{
 "cells": [
  {
   "cell_type": "markdown",
   "metadata": {},
   "source": [
    "# Fully-Connected Neural Nets\n",
    "In the previous homework you implemented a fully-connected two-layer neural network on CIFAR-10. The implementation was simple but not very modular since the loss and gradient were computed in a single monolithic function. This is manageable for a simple two-layer network, but would become impractical as we move to bigger models. Ideally we want to build networks using a more modular design so that we can implement different layer types in isolation and then snap them together into models with different architectures.\n",
    "\n",
    "In this exercise we will implement fully-connected networks using a more modular approach. For each layer we will implement a `forward` and a `backward` function. The `forward` function will receive inputs, weights, and other parameters and will return both an output and a `cache` object storing data needed for the backward pass, like this:\n",
    "\n",
    "```python\n",
    "def layer_forward(x, w):\n",
    "  \"\"\" Receive inputs x and weights w \"\"\"\n",
    "  # Do some computations ...\n",
    "  z = # ... some intermediate value\n",
    "  # Do some more computations ...\n",
    "  out = # the output\n",
    "   \n",
    "  cache = (x, w, z, out) # Values we need to compute gradients\n",
    "   \n",
    "  return out, cache\n",
    "```\n",
    "\n",
    "The backward pass will receive upstream derivatives and the `cache` object, and will return gradients with respect to the inputs and weights, like this:\n",
    "\n",
    "```python\n",
    "def layer_backward(dout, cache):\n",
    "  \"\"\"\n",
    "  Receive derivative of loss with respect to outputs and cache,\n",
    "  and compute derivative with respect to inputs.\n",
    "  \"\"\"\n",
    "  # Unpack cache values\n",
    "  x, w, z, out = cache\n",
    "  \n",
    "  # Use values in cache to compute derivatives\n",
    "  dx = # Derivative of loss with respect to x\n",
    "  dw = # Derivative of loss with respect to w\n",
    "  \n",
    "  return dx, dw\n",
    "```\n",
    "\n",
    "After implementing a bunch of layers this way, we will be able to easily combine them to build classifiers with different architectures.\n",
    "\n",
    "In addition to implementing fully-connected networks of arbitrary depth, we will also explore different update rules for optimization, and introduce Dropout as a regularizer and Batch Normalization as a tool to more efficiently optimize deep networks.\n",
    "  "
   ]
  },
  {
   "cell_type": "code",
   "execution_count": 1,
   "metadata": {},
   "outputs": [
    {
     "name": "stdout",
     "output_type": "stream",
     "text": [
      "run the following from the cs231n directory and try again:\n",
      "python setup.py build_ext --inplace\n",
      "You may also need to restart your iPython kernel\n"
     ]
    }
   ],
   "source": [
    "# As usual, a bit of setup\n",
    "from __future__ import print_function\n",
    "import time\n",
    "import numpy as np\n",
    "import matplotlib.pyplot as plt\n",
    "from cs231n.classifiers.fc_net import *\n",
    "from cs231n.data_utils import get_CIFAR10_data\n",
    "from cs231n.gradient_check import eval_numerical_gradient, eval_numerical_gradient_array\n",
    "from cs231n.solver import Solver\n",
    "\n",
    "%matplotlib inline\n",
    "plt.rcParams['figure.figsize'] = (10.0, 8.0) # set default size of plots\n",
    "plt.rcParams['image.interpolation'] = 'nearest'\n",
    "plt.rcParams['image.cmap'] = 'gray'\n",
    "\n",
    "# for auto-reloading external modules\n",
    "# see http://stackoverflow.com/questions/1907993/autoreload-of-modules-in-ipython\n",
    "%load_ext autoreload\n",
    "%autoreload 2\n",
    "\n",
    "def rel_error(x, y):\n",
    "  \"\"\" returns relative error \"\"\"\n",
    "  return np.max(np.abs(x - y) / (np.maximum(1e-8, np.abs(x) + np.abs(y))))"
   ]
  },
  {
   "cell_type": "code",
   "execution_count": 2,
   "metadata": {},
   "outputs": [
    {
     "name": "stdout",
     "output_type": "stream",
     "text": [
      "('X_train: ', (49000, 3, 32, 32))\n",
      "('y_train: ', (49000,))\n",
      "('X_val: ', (1000, 3, 32, 32))\n",
      "('y_val: ', (1000,))\n",
      "('X_test: ', (1000, 3, 32, 32))\n",
      "('y_test: ', (1000,))\n"
     ]
    }
   ],
   "source": [
    "# Load the (preprocessed) CIFAR10 data.\n",
    "\n",
    "data = get_CIFAR10_data()\n",
    "for k, v in list(data.items()):\n",
    "  print(('%s: ' % k, v.shape))"
   ]
  },
  {
   "cell_type": "markdown",
   "metadata": {},
   "source": [
    "# Affine layer: foward\n",
    "Open the file `cs231n/layers.py` and implement the `affine_forward` function.\n",
    "\n",
    "Once you are done you can test your implementaion by running the following:"
   ]
  },
  {
   "cell_type": "code",
   "execution_count": 3,
   "metadata": {},
   "outputs": [
    {
     "name": "stdout",
     "output_type": "stream",
     "text": [
      "Testing affine_forward function:\n",
      "difference:  9.76984772881e-10\n"
     ]
    }
   ],
   "source": [
    "# Test the affine_forward function\n",
    "\n",
    "num_inputs = 2\n",
    "input_shape = (4, 5, 6)\n",
    "output_dim = 3\n",
    "\n",
    "input_size = num_inputs * np.prod(input_shape)\n",
    "weight_size = output_dim * np.prod(input_shape)\n",
    "\n",
    "x = np.linspace(-0.1, 0.5, num=input_size).reshape(num_inputs, *input_shape)\n",
    "w = np.linspace(-0.2, 0.3, num=weight_size).reshape(np.prod(input_shape), output_dim)\n",
    "b = np.linspace(-0.3, 0.1, num=output_dim)\n",
    "\n",
    "out, _ = affine_forward(x, w, b)\n",
    "correct_out = np.array([[ 1.49834967,  1.70660132,  1.91485297],\n",
    "                        [ 3.25553199,  3.5141327,   3.77273342]])\n",
    "\n",
    "# Compare your output with ours. The error should be around 1e-9.\n",
    "print('Testing affine_forward function:')\n",
    "print('difference: ', rel_error(out, correct_out))"
   ]
  },
  {
   "cell_type": "markdown",
   "metadata": {},
   "source": [
    "# Affine layer: backward\n",
    "Now implement the `affine_backward` function and test your implementation using numeric gradient checking."
   ]
  },
  {
   "cell_type": "code",
   "execution_count": 4,
   "metadata": {},
   "outputs": [
    {
     "name": "stdout",
     "output_type": "stream",
     "text": [
      "Testing affine_backward function:\n",
      "dx error:  5.39910036865e-11\n",
      "dw error:  9.9042118654e-11\n",
      "db error:  2.41228675681e-11\n"
     ]
    }
   ],
   "source": [
    "# Test the affine_backward function\n",
    "np.random.seed(231)\n",
    "x = np.random.randn(10, 2, 3)\n",
    "w = np.random.randn(6, 5)\n",
    "b = np.random.randn(5)\n",
    "dout = np.random.randn(10, 5)\n",
    "\n",
    "dx_num = eval_numerical_gradient_array(lambda x: affine_forward(x, w, b)[0], x, dout)\n",
    "dw_num = eval_numerical_gradient_array(lambda w: affine_forward(x, w, b)[0], w, dout)\n",
    "db_num = eval_numerical_gradient_array(lambda b: affine_forward(x, w, b)[0], b, dout)\n",
    "\n",
    "_, cache = affine_forward(x, w, b)\n",
    "dx, dw, db = affine_backward(dout, cache)\n",
    "\n",
    "# The error should be around 1e-10\n",
    "print('Testing affine_backward function:')\n",
    "print('dx error: ', rel_error(dx_num, dx))\n",
    "print('dw error: ', rel_error(dw_num, dw))\n",
    "print('db error: ', rel_error(db_num, db))"
   ]
  },
  {
   "cell_type": "markdown",
   "metadata": {},
   "source": [
    "# ReLU layer: forward\n",
    "Implement the forward pass for the ReLU activation function in the `relu_forward` function and test your implementation using the following:"
   ]
  },
  {
   "cell_type": "code",
   "execution_count": 5,
   "metadata": {},
   "outputs": [
    {
     "name": "stdout",
     "output_type": "stream",
     "text": [
      "Testing relu_forward function:\n",
      "difference:  4.99999979802e-08\n"
     ]
    }
   ],
   "source": [
    "# Test the relu_forward function\n",
    "\n",
    "x = np.linspace(-0.5, 0.5, num=12).reshape(3, 4)\n",
    "\n",
    "out, _ = relu_forward(x)\n",
    "correct_out = np.array([[ 0.,          0.,          0.,          0.,        ],\n",
    "                        [ 0.,          0.,          0.04545455,  0.13636364,],\n",
    "                        [ 0.22727273,  0.31818182,  0.40909091,  0.5,       ]])\n",
    "\n",
    "# Compare your output with ours. The error should be around 5e-8\n",
    "print('Testing relu_forward function:')\n",
    "print('difference: ', rel_error(out, correct_out))"
   ]
  },
  {
   "cell_type": "markdown",
   "metadata": {},
   "source": [
    "# ReLU layer: backward\n",
    "Now implement the backward pass for the ReLU activation function in the `relu_backward` function and test your implementation using numeric gradient checking:"
   ]
  },
  {
   "cell_type": "code",
   "execution_count": 6,
   "metadata": {},
   "outputs": [
    {
     "name": "stdout",
     "output_type": "stream",
     "text": [
      "Testing relu_backward function:\n",
      "dx error:  3.27563491363e-12\n"
     ]
    }
   ],
   "source": [
    "np.random.seed(231)\n",
    "x = np.random.randn(10, 10)\n",
    "dout = np.random.randn(*x.shape)\n",
    "\n",
    "dx_num = eval_numerical_gradient_array(lambda x: relu_forward(x)[0], x, dout)\n",
    "\n",
    "_, cache = relu_forward(x)\n",
    "dx = relu_backward(dout, cache)\n",
    "\n",
    "# The error should be around 3e-12\n",
    "print('Testing relu_backward function:')\n",
    "print('dx error: ', rel_error(dx_num, dx))"
   ]
  },
  {
   "cell_type": "markdown",
   "metadata": {},
   "source": [
    "# \"Sandwich\" layers\n",
    "There are some common patterns of layers that are frequently used in neural nets. For example, affine layers are frequently followed by a ReLU nonlinearity. To make these common patterns easy, we define several convenience layers in the file `cs231n/layer_utils.py`.\n",
    "\n",
    "For now take a look at the `affine_relu_forward` and `affine_relu_backward` functions, and run the following to numerically gradient check the backward pass:"
   ]
  },
  {
   "cell_type": "code",
   "execution_count": 7,
   "metadata": {},
   "outputs": [
    {
     "name": "stdout",
     "output_type": "stream",
     "text": [
      "Testing affine_relu_forward:\n",
      "dx error:  6.7505621216e-11\n",
      "dw error:  8.16201557044e-11\n",
      "db error:  7.82672402146e-12\n"
     ]
    }
   ],
   "source": [
    "from cs231n.layer_utils import affine_relu_forward, affine_relu_backward\n",
    "np.random.seed(231)\n",
    "x = np.random.randn(2, 3, 4)\n",
    "w = np.random.randn(12, 10)\n",
    "b = np.random.randn(10)\n",
    "dout = np.random.randn(2, 10)\n",
    "\n",
    "out, cache = affine_relu_forward(x, w, b)\n",
    "dx, dw, db = affine_relu_backward(dout, cache)\n",
    "\n",
    "dx_num = eval_numerical_gradient_array(lambda x: affine_relu_forward(x, w, b)[0], x, dout)\n",
    "dw_num = eval_numerical_gradient_array(lambda w: affine_relu_forward(x, w, b)[0], w, dout)\n",
    "db_num = eval_numerical_gradient_array(lambda b: affine_relu_forward(x, w, b)[0], b, dout)\n",
    "\n",
    "print('Testing affine_relu_forward:')\n",
    "print('dx error: ', rel_error(dx_num, dx))\n",
    "print('dw error: ', rel_error(dw_num, dw))\n",
    "print('db error: ', rel_error(db_num, db))"
   ]
  },
  {
   "cell_type": "markdown",
   "metadata": {},
   "source": [
    "# Loss layers: Softmax and SVM\n",
    "You implemented these loss functions in the last assignment, so we'll give them to you for free here. You should still make sure you understand how they work by looking at the implementations in `cs231n/layers.py`.\n",
    "\n",
    "You can make sure that the implementations are correct by running the following:"
   ]
  },
  {
   "cell_type": "code",
   "execution_count": 8,
   "metadata": {},
   "outputs": [
    {
     "name": "stdout",
     "output_type": "stream",
     "text": [
      "Testing svm_loss:\n",
      "loss:  8.9996027491\n",
      "dx error:  1.40215660067e-09\n",
      "\n",
      "Testing softmax_loss:\n",
      "loss:  2.3025458445\n",
      "dx error:  9.38467316199e-09\n"
     ]
    }
   ],
   "source": [
    "np.random.seed(231)\n",
    "num_classes, num_inputs = 10, 50\n",
    "x = 0.001 * np.random.randn(num_inputs, num_classes)\n",
    "y = np.random.randint(num_classes, size=num_inputs)\n",
    "\n",
    "dx_num = eval_numerical_gradient(lambda x: svm_loss(x, y)[0], x, verbose=False)\n",
    "loss, dx = svm_loss(x, y)\n",
    "\n",
    "# Test svm_loss function. Loss should be around 9 and dx error should be 1e-9\n",
    "print('Testing svm_loss:')\n",
    "print('loss: ', loss)\n",
    "print('dx error: ', rel_error(dx_num, dx))\n",
    "\n",
    "dx_num = eval_numerical_gradient(lambda x: softmax_loss(x, y)[0], x, verbose=False)\n",
    "loss, dx = softmax_loss(x, y)\n",
    "\n",
    "# Test softmax_loss function. Loss should be 2.3 and dx error should be 1e-8\n",
    "print('\\nTesting softmax_loss:')\n",
    "print('loss: ', loss)\n",
    "print('dx error: ', rel_error(dx_num, dx))"
   ]
  },
  {
   "cell_type": "markdown",
   "metadata": {},
   "source": [
    "# Two-layer network\n",
    "In the previous assignment you implemented a two-layer neural network in a single monolithic class. Now that you have implemented modular versions of the necessary layers, you will reimplement the two layer network using these modular implementations.\n",
    "\n",
    "Open the file `cs231n/classifiers/fc_net.py` and complete the implementation of the `TwoLayerNet` class. This class will serve as a model for the other networks you will implement in this assignment, so read through it to make sure you understand the API. You can run the cell below to test your implementation."
   ]
  },
  {
   "cell_type": "code",
   "execution_count": 9,
   "metadata": {},
   "outputs": [
    {
     "name": "stdout",
     "output_type": "stream",
     "text": [
      "Testing initialization ... \n",
      "Testing test-time forward pass ... \n",
      "Testing training loss (no regularization)\n",
      "Running numeric gradient check with reg =  0.0\n",
      "W1 relative error: 1.52e-08\n",
      "W2 relative error: 3.48e-10\n",
      "b1 relative error: 6.55e-09\n",
      "b2 relative error: 4.33e-10\n",
      "Running numeric gradient check with reg =  0.7\n",
      "W1 relative error: 8.18e-07\n",
      "W2 relative error: 7.98e-08\n",
      "b1 relative error: 1.09e-09\n",
      "b2 relative error: 9.09e-10\n"
     ]
    }
   ],
   "source": [
    "np.random.seed(231)\n",
    "N, D, H, C = 3, 5, 50, 7\n",
    "X = np.random.randn(N, D)\n",
    "y = np.random.randint(C, size=N)\n",
    "\n",
    "std = 1e-3\n",
    "model = TwoLayerNet(input_dim=D, hidden_dim=H, num_classes=C, weight_scale=std)\n",
    "\n",
    "print('Testing initialization ... ')\n",
    "W1_std = abs(model.params['W1'].std() - std)\n",
    "b1 = model.params['b1']\n",
    "W2_std = abs(model.params['W2'].std() - std)\n",
    "b2 = model.params['b2']\n",
    "assert W1_std < std / 10, 'First layer weights do not seem right'\n",
    "assert np.all(b1 == 0), 'First layer biases do not seem right'\n",
    "assert W2_std < std / 10, 'Second layer weights do not seem right'\n",
    "assert np.all(b2 == 0), 'Second layer biases do not seem right'\n",
    "\n",
    "print('Testing test-time forward pass ... ')\n",
    "model.params['W1'] = np.linspace(-0.7, 0.3, num=D*H).reshape(D, H)\n",
    "model.params['b1'] = np.linspace(-0.1, 0.9, num=H)\n",
    "model.params['W2'] = np.linspace(-0.3, 0.4, num=H*C).reshape(H, C)\n",
    "model.params['b2'] = np.linspace(-0.9, 0.1, num=C)\n",
    "X = np.linspace(-5.5, 4.5, num=N*D).reshape(D, N).T\n",
    "scores = model.loss(X)\n",
    "correct_scores = np.asarray(\n",
    "  [[11.53165108,  12.2917344,   13.05181771,  13.81190102,  14.57198434, 15.33206765,  16.09215096],\n",
    "   [12.05769098,  12.74614105,  13.43459113,  14.1230412,   14.81149128, 15.49994135,  16.18839143],\n",
    "   [12.58373087,  13.20054771,  13.81736455,  14.43418138,  15.05099822, 15.66781506,  16.2846319 ]])\n",
    "scores_diff = np.abs(scores - correct_scores).sum()\n",
    "assert scores_diff < 1e-6, 'Problem with test-time forward pass'\n",
    "\n",
    "print('Testing training loss (no regularization)')\n",
    "y = np.asarray([0, 5, 1])\n",
    "loss, grads = model.loss(X, y)\n",
    "correct_loss = 3.4702243556\n",
    "assert abs(loss - correct_loss) < 1e-10, 'Problem with training-time loss'\n",
    "\n",
    "model.reg = 1.0\n",
    "loss, grads = model.loss(X, y)\n",
    "correct_loss = 26.5948426952\n",
    "assert abs(loss - correct_loss) < 1e-10, 'Problem with regularization loss'\n",
    "\n",
    "for reg in [0.0, 0.7]:\n",
    "  print('Running numeric gradient check with reg = ', reg)\n",
    "  model.reg = reg\n",
    "  loss, grads = model.loss(X, y)\n",
    "\n",
    "  for name in sorted(grads):\n",
    "    f = lambda _: model.loss(X, y)[0]\n",
    "    grad_num = eval_numerical_gradient(f, model.params[name], verbose=False)\n",
    "    print('%s relative error: %.2e' % (name, rel_error(grad_num, grads[name])))"
   ]
  },
  {
   "cell_type": "markdown",
   "metadata": {},
   "source": [
    "# Solver\n",
    "In the previous assignment, the logic for training models was coupled to the models themselves. Following a more modular design, for this assignment we have split the logic for training models into a separate class.\n",
    "\n",
    "Open the file `cs231n/solver.py` and read through it to familiarize yourself with the API. After doing so, use a `Solver` instance to train a `TwoLayerNet` that achieves at least `50%` accuracy on the validation set."
   ]
  },
  {
   "cell_type": "code",
   "execution_count": 10,
   "metadata": {
    "scrolled": true
   },
   "outputs": [
    {
     "name": "stdout",
     "output_type": "stream",
     "text": [
      "(Iteration 1 / 4900) loss: 2.305965\n",
      "(Epoch 0 / 20) train acc: 0.114000; val_acc: 0.096000\n",
      "(Iteration 101 / 4900) loss: 1.856329\n",
      "(Iteration 201 / 4900) loss: 1.598619\n",
      "(Epoch 1 / 20) train acc: 0.407000; val_acc: 0.416000\n",
      "(Iteration 301 / 4900) loss: 1.548536\n",
      "(Iteration 401 / 4900) loss: 1.661861\n",
      "(Epoch 2 / 20) train acc: 0.491000; val_acc: 0.462000\n",
      "(Iteration 501 / 4900) loss: 1.452303\n",
      "(Iteration 601 / 4900) loss: 1.665413\n",
      "(Iteration 701 / 4900) loss: 1.295910\n",
      "(Epoch 3 / 20) train acc: 0.485000; val_acc: 0.461000\n",
      "(Iteration 801 / 4900) loss: 1.393038\n",
      "(Iteration 901 / 4900) loss: 1.395341\n",
      "(Epoch 4 / 20) train acc: 0.533000; val_acc: 0.499000\n",
      "(Iteration 1001 / 4900) loss: 1.449278\n",
      "(Iteration 1101 / 4900) loss: 1.276145\n",
      "(Iteration 1201 / 4900) loss: 1.207275\n",
      "(Epoch 5 / 20) train acc: 0.520000; val_acc: 0.516000\n",
      "(Iteration 1301 / 4900) loss: 1.339874\n",
      "(Iteration 1401 / 4900) loss: 1.430487\n",
      "(Epoch 6 / 20) train acc: 0.534000; val_acc: 0.507000\n",
      "(Iteration 1501 / 4900) loss: 1.364778\n",
      "(Iteration 1601 / 4900) loss: 1.167146\n",
      "(Iteration 1701 / 4900) loss: 1.362156\n",
      "(Epoch 7 / 20) train acc: 0.558000; val_acc: 0.511000\n",
      "(Iteration 1801 / 4900) loss: 1.225039\n",
      "(Iteration 1901 / 4900) loss: 1.310197\n",
      "(Epoch 8 / 20) train acc: 0.567000; val_acc: 0.505000\n",
      "(Iteration 2001 / 4900) loss: 1.271719\n",
      "(Iteration 2101 / 4900) loss: 1.120800\n",
      "(Iteration 2201 / 4900) loss: 1.279429\n",
      "(Epoch 9 / 20) train acc: 0.580000; val_acc: 0.514000\n",
      "(Iteration 2301 / 4900) loss: 1.229667\n",
      "(Iteration 2401 / 4900) loss: 1.104043\n",
      "(Epoch 10 / 20) train acc: 0.597000; val_acc: 0.518000\n",
      "(Iteration 2501 / 4900) loss: 1.286715\n",
      "(Iteration 2601 / 4900) loss: 1.143557\n",
      "(Epoch 11 / 20) train acc: 0.610000; val_acc: 0.513000\n",
      "(Iteration 2701 / 4900) loss: 1.048077\n",
      "(Iteration 2801 / 4900) loss: 1.065507\n",
      "(Iteration 2901 / 4900) loss: 1.130374\n",
      "(Epoch 12 / 20) train acc: 0.583000; val_acc: 0.503000\n",
      "(Iteration 3001 / 4900) loss: 1.146657\n",
      "(Iteration 3101 / 4900) loss: 1.197794\n",
      "(Epoch 13 / 20) train acc: 0.621000; val_acc: 0.514000\n",
      "(Iteration 3201 / 4900) loss: 1.045194\n",
      "(Iteration 3301 / 4900) loss: 0.974399\n",
      "(Iteration 3401 / 4900) loss: 1.064486\n",
      "(Epoch 14 / 20) train acc: 0.613000; val_acc: 0.526000\n",
      "(Iteration 3501 / 4900) loss: 1.043400\n",
      "(Iteration 3601 / 4900) loss: 1.065562\n",
      "(Epoch 15 / 20) train acc: 0.635000; val_acc: 0.523000\n",
      "(Iteration 3701 / 4900) loss: 0.980446\n",
      "(Iteration 3801 / 4900) loss: 1.134107\n",
      "(Iteration 3901 / 4900) loss: 0.995502\n",
      "(Epoch 16 / 20) train acc: 0.655000; val_acc: 0.533000\n",
      "(Iteration 4001 / 4900) loss: 0.995054\n",
      "(Iteration 4101 / 4900) loss: 0.972659\n",
      "(Epoch 17 / 20) train acc: 0.640000; val_acc: 0.517000\n",
      "(Iteration 4201 / 4900) loss: 1.035354\n",
      "(Iteration 4301 / 4900) loss: 1.031929\n",
      "(Iteration 4401 / 4900) loss: 1.092629\n",
      "(Epoch 18 / 20) train acc: 0.658000; val_acc: 0.526000\n",
      "(Iteration 4501 / 4900) loss: 0.953598\n",
      "(Iteration 4601 / 4900) loss: 1.040638\n",
      "(Epoch 19 / 20) train acc: 0.655000; val_acc: 0.513000\n",
      "(Iteration 4701 / 4900) loss: 0.941461\n",
      "(Iteration 4801 / 4900) loss: 0.920922\n",
      "(Epoch 20 / 20) train acc: 0.668000; val_acc: 0.509000\n"
     ]
    }
   ],
   "source": [
    "model = TwoLayerNet()\n",
    "solver = None\n",
    "\n",
    "##############################################################################\n",
    "# TODO: Use a Solver instance to train a TwoLayerNet that achieves at least  #\n",
    "# 50% accuracy on the validation set.                                        #\n",
    "##############################################################################\n",
    "solver = Solver(model, data,\n",
    "                    update_rule='sgd',\n",
    "                    optim_config={\n",
    "                      'learning_rate': 1e-3,\n",
    "                    },\n",
    "                    lr_decay=0.95,\n",
    "                    num_epochs=20, batch_size=200,\n",
    "                    print_every=100)\n",
    "solver.train()\n",
    "##############################################################################\n",
    "#                             END OF YOUR CODE                               #\n",
    "##############################################################################"
   ]
  },
  {
   "cell_type": "code",
   "execution_count": 11,
   "metadata": {},
   "outputs": [
    {
     "data": {
      "image/png": "[encoded data removed]",
      "text/plain": [
       "<matplotlib.figure.Figure at 0x8737fd0>"
      ]
     },
     "metadata": {},
     "output_type": "display_data"
    }
   ],
   "source": [
    "# Run this cell to visualize training loss and train / val accuracy\n",
    "\n",
    "plt.subplot(2, 1, 1)\n",
    "plt.title('Training loss')\n",
    "plt.plot(solver.loss_history, 'o')\n",
    "plt.xlabel('Iteration')\n",
    "\n",
    "plt.subplot(2, 1, 2)\n",
    "plt.title('Accuracy')\n",
    "plt.plot(solver.train_acc_history, '-o', label='train')\n",
    "plt.plot(solver.val_acc_history, '-o', label='val')\n",
    "plt.plot([0.5] * len(solver.val_acc_history), 'k--')\n",
    "plt.xlabel('Epoch')\n",
    "plt.legend(loc='lower right')\n",
    "plt.gcf().set_size_inches(15, 12)\n",
    "plt.show()"
   ]
  },
  {
   "cell_type": "markdown",
   "metadata": {},
   "source": [
    "# Multilayer network\n",
    "Next you will implement a fully-connected network with an arbitrary number of hidden layers.\n",
    "\n",
    "Read through the `FullyConnectedNet` class in the file `cs231n/classifiers/fc_net.py`.\n",
    "\n",
    "Implement the initialization, the forward pass, and the backward pass. For the moment don't worry about implementing dropout or batch normalization; we will add those features soon."
   ]
  },
  {
   "cell_type": "markdown",
   "metadata": {},
   "source": [
    "## Initial loss and gradient check"
   ]
  },
  {
   "cell_type": "markdown",
   "metadata": {},
   "source": [
    "As a sanity check, run the following to check the initial loss and to gradient check the network both with and without regularization. Do the initial losses seem reasonable?\n",
    "\n",
    "For gradient checking, you should expect to see errors around 1e-6 or less."
   ]
  },
  {
   "cell_type": "code",
   "execution_count": 12,
   "metadata": {},
   "outputs": [
    {
     "name": "stdout",
     "output_type": "stream",
     "text": [
      "Running check with reg =  0\n",
      "Initial loss:  2.30047908977\n",
      "W1 relative error: 7.70e-08\n",
      "W2 relative error: 1.71e-05\n",
      "W3 relative error: 2.95e-07\n",
      "b1 relative error: 4.66e-09\n",
      "b2 relative error: 2.09e-09\n",
      "b3 relative error: 6.60e-11\n",
      "Running check with reg =  3.14\n",
      "Initial loss:  7.05211477653\n",
      "W1 relative error: 7.36e-09\n",
      "W2 relative error: 6.87e-08\n",
      "W3 relative error: 3.48e-08\n",
      "b1 relative error: 1.17e-08\n",
      "b2 relative error: 1.72e-09\n",
      "b3 relative error: 2.87e-10\n"
     ]
    }
   ],
   "source": [
    "np.random.seed(231)\n",
    "N, D, H1, H2, C = 2, 15, 20, 30, 10\n",
    "X = np.random.randn(N, D)\n",
    "y = np.random.randint(C, size=(N,))\n",
    "\n",
    "for reg in [0, 3.14]:\n",
    "  print('Running check with reg = ', reg)\n",
    "  model = FullyConnectedNet([H1, H2], input_dim=D, num_classes=C,\n",
    "                            reg=reg, weight_scale=5e-2, dtype=np.float64)\n",
    "\n",
    "  loss, grads = model.loss(X, y)\n",
    "  print('Initial loss: ', loss)\n",
    "\n",
    "  for name in sorted(grads):\n",
    "    f = lambda _: model.loss(X, y)[0]\n",
    "    grad_num = eval_numerical_gradient(f, model.params[name], verbose=False, h=1e-5)\n",
    "    print('%s relative error: %.2e' % (name, rel_error(grad_num, grads[name])))"
   ]
  },
  {
   "cell_type": "markdown",
   "metadata": {},
   "source": [
    "As another sanity check, make sure you can overfit a small dataset of 50 images. First we will try a three-layer network with 100 units in each hidden layer. You will need to tweak the learning rate and initialization scale, but you should be able to overfit and achieve 100% training accuracy within 20 epochs."
   ]
  },
  {
   "cell_type": "code",
   "execution_count": 38,
   "metadata": {
    "scrolled": false
   },
   "outputs": [
    {
     "name": "stdout",
     "output_type": "stream",
     "text": [
      "(Iteration 1 / 40) loss: 2.300096\n",
      "(Epoch 0 / 20) train acc: 0.280000; val_acc: 0.133000\n",
      "(Epoch 1 / 20) train acc: 0.380000; val_acc: 0.159000\n",
      "(Epoch 2 / 20) train acc: 0.440000; val_acc: 0.154000\n",
      "(Epoch 3 / 20) train acc: 0.280000; val_acc: 0.117000\n",
      "(Epoch 4 / 20) train acc: 0.520000; val_acc: 0.148000\n",
      "(Epoch 5 / 20) train acc: 0.760000; val_acc: 0.191000\n",
      "(Iteration 11 / 40) loss: 1.168490\n",
      "(Epoch 6 / 20) train acc: 0.860000; val_acc: 0.176000\n",
      "(Epoch 7 / 20) train acc: 0.860000; val_acc: 0.196000\n",
      "(Epoch 8 / 20) train acc: 0.900000; val_acc: 0.196000\n",
      "(Epoch 9 / 20) train acc: 0.960000; val_acc: 0.203000\n",
      "(Epoch 10 / 20) train acc: 0.960000; val_acc: 0.206000\n",
      "(Iteration 21 / 40) loss: 0.240737\n",
      "(Epoch 11 / 20) train acc: 0.900000; val_acc: 0.183000\n",
      "(Epoch 12 / 20) train acc: 0.920000; val_acc: 0.176000\n",
      "(Epoch 13 / 20) train acc: 1.000000; val_acc: 0.185000\n",
      "(Epoch 14 / 20) train acc: 1.000000; val_acc: 0.184000\n",
      "(Epoch 15 / 20) train acc: 1.000000; val_acc: 0.184000\n",
      "(Iteration 31 / 40) loss: 0.058712\n",
      "(Epoch 16 / 20) train acc: 1.000000; val_acc: 0.188000\n",
      "(Epoch 17 / 20) train acc: 1.000000; val_acc: 0.178000\n",
      "(Epoch 18 / 20) train acc: 1.000000; val_acc: 0.178000\n",
      "(Epoch 19 / 20) train acc: 1.000000; val_acc: 0.190000\n",
      "(Epoch 20 / 20) train acc: 1.000000; val_acc: 0.191000\n"
     ]
    },
    {
     "data": {
      "image/png": "[encoded data removed]",
      "text/plain": [
       "<matplotlib.figure.Figure at 0x14f7dcf8>"
      ]
     },
     "metadata": {},
     "output_type": "display_data"
    }
   ],
   "source": [
    "# TODO: Use a three-layer Net to overfit 50 training examples.\n",
    "\n",
    "num_train = 50\n",
    "small_data = {\n",
    "  'X_train': data['X_train'][:num_train],\n",
    "  'y_train': data['y_train'][:num_train],\n",
    "  'X_val': data['X_val'],\n",
    "  'y_val': data['y_val'],\n",
    "}\n",
    "\n",
    "weight_scale = 1e-2\n",
    "learning_rate = 1e-2\n",
    "model = FullyConnectedNet([140, 100],\n",
    "              weight_scale=weight_scale, dtype=np.float64)\n",
    "solver = Solver(model, small_data,\n",
    "                print_every=10, num_epochs=20, batch_size=25,\n",
    "                update_rule='sgd',\n",
    "                optim_config={\n",
    "                  'learning_rate': learning_rate,\n",
    "                }\n",
    "         )\n",
    "solver.train()\n",
    "\n",
    "plt.plot(solver.loss_history, 'o')\n",
    "plt.title('Training loss history')\n",
    "plt.xlabel('Iteration')\n",
    "plt.ylabel('Training loss')\n",
    "plt.show()"
   ]
  },
  {
   "cell_type": "markdown",
   "metadata": {},
   "source": [
    "Now try to use a five-layer network with 100 units on each layer to overfit 50 training examples. Again you will have to adjust the learning rate and weight initialization, but you should be able to achieve 100% training accuracy within 20 epochs."
   ]
  },
  {
   "cell_type": "code",
   "execution_count": 70,
   "metadata": {},
   "outputs": [
    {
     "name": "stdout",
     "output_type": "stream",
     "text": [
      "(Iteration 1 / 40) loss: 121.883894\n",
      "(Epoch 0 / 20) train acc: 0.160000; val_acc: 0.127000\n",
      "(Epoch 1 / 20) train acc: 0.120000; val_acc: 0.098000\n",
      "(Epoch 2 / 20) train acc: 0.120000; val_acc: 0.119000\n",
      "(Epoch 3 / 20) train acc: 0.160000; val_acc: 0.116000\n"
     ]
    },
    {
     "name": "stderr",
     "output_type": "stream",
     "text": [
      "E:\\Computer Science\\机器学习相关\\课程作业\\CS231n-Spring-2017\\Assignment #2 Fully-Connected Nets, Batch Normalization, Dropout, Convolutional Nets\\cs231n\\classifiers\\fc_net.py:291: RuntimeWarning: divide by zero encountered in log\n",
      "  loss = np.sum(-np.log(softmax_output[range(N),y]))\n"
     ]
    },
    {
     "name": "stdout",
     "output_type": "stream",
     "text": [
      "(Epoch 4 / 20) train acc: 0.220000; val_acc: 0.090000\n",
      "(Epoch 5 / 20) train acc: 0.360000; val_acc: 0.130000\n",
      "(Iteration 11 / 40) loss: 48.334082\n",
      "(Epoch 6 / 20) train acc: 0.440000; val_acc: 0.129000\n",
      "(Epoch 7 / 20) train acc: 0.500000; val_acc: 0.121000\n",
      "(Epoch 8 / 20) train acc: 0.560000; val_acc: 0.138000\n",
      "(Epoch 9 / 20) train acc: 0.560000; val_acc: 0.119000\n",
      "(Epoch 10 / 20) train acc: 0.680000; val_acc: 0.131000\n",
      "(Iteration 21 / 40) loss: 13.710170\n",
      "(Epoch 11 / 20) train acc: 0.540000; val_acc: 0.131000\n",
      "(Epoch 12 / 20) train acc: 0.600000; val_acc: 0.115000\n",
      "(Epoch 13 / 20) train acc: 0.580000; val_acc: 0.144000\n",
      "(Epoch 14 / 20) train acc: 0.680000; val_acc: 0.149000\n",
      "(Epoch 15 / 20) train acc: 0.760000; val_acc: 0.142000\n",
      "(Iteration 31 / 40) loss: 10.929833\n",
      "(Epoch 16 / 20) train acc: 0.500000; val_acc: 0.144000\n",
      "(Epoch 17 / 20) train acc: 0.760000; val_acc: 0.154000\n",
      "(Epoch 18 / 20) train acc: 0.800000; val_acc: 0.143000\n",
      "(Epoch 19 / 20) train acc: 0.760000; val_acc: 0.138000\n",
      "(Epoch 20 / 20) train acc: 0.900000; val_acc: 0.159000\n"
     ]
    },
    {
     "data": {
      "image/png": "[encoded data removed]",
      "text/plain": [
       "<matplotlib.figure.Figure at 0xa299ef0>"
      ]
     },
     "metadata": {},
     "output_type": "display_data"
    }
   ],
   "source": [
    "# TODO: Use a five-layer Net to overfit 50 training examples.\n",
    "\n",
    "num_train = 50\n",
    "small_data = {\n",
    "  'X_train': data['X_train'][:num_train],\n",
    "  'y_train': data['y_train'][:num_train],\n",
    "  'X_val': data['X_val'],\n",
    "  'y_val': data['y_val'],\n",
    "}\n",
    "\n",
    "learning_rate = 1e-3\n",
    "weight_scale = 1e-1\n",
    "model = FullyConnectedNet([100, 100, 100, 100],\n",
    "                weight_scale=weight_scale, dtype=np.float64)\n",
    "solver = Solver(model, small_data,\n",
    "                print_every=10, num_epochs=20, batch_size=25,\n",
    "                update_rule='sgd',\n",
    "                optim_config={\n",
    "                  'learning_rate': learning_rate,\n",
    "                }\n",
    "         )\n",
    "solver.train()\n",
    "\n",
    "plt.plot(solver.loss_history, 'o')\n",
    "plt.title('Training loss history')\n",
    "plt.xlabel('Iteration')\n",
    "plt.ylabel('Training loss')\n",
    "plt.show()"
   ]
  },
  {
   "cell_type": "markdown",
   "metadata": {},
   "source": [
    "# Inline question: \n",
    "Did you notice anything about the comparative difficulty of training the three-layer net vs training the five layer net?\n",
    "\n",
    "# Answer:\n",
    "[FILL THIS IN]\n"
   ]
  },
  {
   "cell_type": "markdown",
   "metadata": {},
   "source": [
    "# Update rules\n",
    "So far we have used vanilla stochastic gradient descent (SGD) as our update rule. More sophisticated update rules can make it easier to train deep networks. We will implement a few of the most commonly used update rules and compare them to vanilla SGD."
   ]
  },
  {
   "cell_type": "markdown",
   "metadata": {},
   "source": [
    "# SGD+Momentum\n",
    "Stochastic gradient descent with momentum is a widely used update rule that tends to make deep networks converge faster than vanilla stochstic gradient descent.\n",
    "\n",
    "Open the file `cs231n/optim.py` and read the documentation at the top of the file to make sure you understand the API. Implement the SGD+momentum update rule in the function `sgd_momentum` and run the following to check your implementation. You should see errors less than 1e-8."
   ]
  },
  {
   "cell_type": "code",
   "execution_count": 71,
   "metadata": {},
   "outputs": [
    {
     "name": "stdout",
     "output_type": "stream",
     "text": [
      "next_w error:  8.88234703351e-09\n",
      "velocity error:  4.26928774328e-09\n"
     ]
    }
   ],
   "source": [
    "from cs231n.optim import sgd_momentum\n",
    "\n",
    "N, D = 4, 5\n",
    "w = np.linspace(-0.4, 0.6, num=N*D).reshape(N, D)\n",
    "dw = np.linspace(-0.6, 0.4, num=N*D).reshape(N, D)\n",
    "v = np.linspace(0.6, 0.9, num=N*D).reshape(N, D)\n",
    "\n",
    "config = {'learning_rate': 1e-3, 'velocity': v}\n",
    "next_w, _ = sgd_momentum(w, dw, config=config)\n",
    "\n",
    "expected_next_w = np.asarray([\n",
    "  [ 0.1406,      0.20738947,  0.27417895,  0.34096842,  0.40775789],\n",
    "  [ 0.47454737,  0.54133684,  0.60812632,  0.67491579,  0.74170526],\n",
    "  [ 0.80849474,  0.87528421,  0.94207368,  1.00886316,  1.07565263],\n",
    "  [ 1.14244211,  1.20923158,  1.27602105,  1.34281053,  1.4096    ]])\n",
    "expected_velocity = np.asarray([\n",
    "  [ 0.5406,      0.55475789,  0.56891579, 0.58307368,  0.59723158],\n",
    "  [ 0.61138947,  0.62554737,  0.63970526,  0.65386316,  0.66802105],\n",
    "  [ 0.68217895,  0.69633684,  0.71049474,  0.72465263,  0.73881053],\n",
    "  [ 0.75296842,  0.76712632,  0.78128421,  0.79544211,  0.8096    ]])\n",
    "\n",
    "print('next_w error: ', rel_error(next_w, expected_next_w))\n",
    "print('velocity error: ', rel_error(expected_velocity, config['velocity']))"
   ]
  },
  {
   "cell_type": "markdown",
   "metadata": {},
   "source": [
    "Once you have done so, run the following to train a six-layer network with both SGD and SGD+momentum. You should see the SGD+momentum update rule converge faster."
   ]
  },
  {
   "cell_type": "code",
   "execution_count": 72,
   "metadata": {
    "scrolled": false
   },
   "outputs": [
    {
     "name": "stdout",
     "output_type": "stream",
     "text": [
      "running with  sgd\n",
      "(Iteration 1 / 200) loss: 11.808595\n",
      "(Epoch 0 / 5) train acc: 0.101000; val_acc: 0.102000\n",
      "(Iteration 11 / 200) loss: nan\n"
     ]
    },
    {
     "name": "stderr",
     "output_type": "stream",
     "text": [
      "E:\\Computer Science\\机器学习相关\\课程作业\\CS231n-Spring-2017\\Assignment #2 Fully-Connected Nets, Batch Normalization, Dropout, Convolutional Nets\\cs231n\\classifiers\\fc_net.py:291: RuntimeWarning: divide by zero encountered in log\n",
      "  loss = np.sum(-np.log(softmax_output[range(N),y]))\n",
      "E:\\Computer Science\\机器学习相关\\课程作业\\CS231n-Spring-2017\\Assignment #2 Fully-Connected Nets, Batch Normalization, Dropout, Convolutional Nets\\cs231n\\classifiers\\fc_net.py:290: RuntimeWarning: overflow encountered in exp\n",
      "  softmax_output = np.exp(scores)/np.sum(np.exp(scores),axis=1,keepdims=True)\n",
      "E:\\Computer Science\\机器学习相关\\课程作业\\CS231n-Spring-2017\\Assignment #2 Fully-Connected Nets, Batch Normalization, Dropout, Convolutional Nets\\cs231n\\classifiers\\fc_net.py:290: RuntimeWarning: invalid value encountered in true_divide\n",
      "  softmax_output = np.exp(scores)/np.sum(np.exp(scores),axis=1,keepdims=True)\n",
      "E:\\Computer Science\\机器学习相关\\课程作业\\CS231n-Spring-2017\\Assignment #2 Fully-Connected Nets, Batch Normalization, Dropout, Convolutional Nets\\cs231n\\classifiers\\fc_net.py:264: RuntimeWarning: invalid value encountered in maximum\n",
      "  hidden_layers.append(np.maximum(0,X.dot(self.params['W'+str(l+1)])+self.params['b'+str(l+1)]))\n",
      "E:\\Computer Science\\机器学习相关\\课程作业\\CS231n-Spring-2017\\Assignment #2 Fully-Connected Nets, Batch Normalization, Dropout, Convolutional Nets\\cs231n\\classifiers\\fc_net.py:266: RuntimeWarning: invalid value encountered in maximum\n",
      "  hidden_layers.append(np.maximum(0,hidden_layers[l-2].dot(self.params['W'+str(l+1)])+self.params['b'+str(l+1)]))\n"
     ]
    },
    {
     "name": "stdout",
     "output_type": "stream",
     "text": [
      "(Iteration 21 / 200) loss: nan\n",
      "(Iteration 31 / 200) loss: nan\n",
      "(Epoch 1 / 5) train acc: 0.099000; val_acc: 0.087000\n",
      "(Iteration 41 / 200) loss: nan\n",
      "(Iteration 51 / 200) loss: nan\n",
      "(Iteration 61 / 200) loss: nan\n",
      "(Iteration 71 / 200) loss: nan\n",
      "(Epoch 2 / 5) train acc: 0.101000; val_acc: 0.087000\n",
      "(Iteration 81 / 200) loss: nan\n",
      "(Iteration 91 / 200) loss: nan\n",
      "(Iteration 101 / 200) loss: nan\n",
      "(Iteration 111 / 200) loss: nan\n",
      "(Epoch 3 / 5) train acc: 0.090000; val_acc: 0.087000\n",
      "(Iteration 121 / 200) loss: nan\n",
      "(Iteration 131 / 200) loss: nan\n",
      "(Iteration 141 / 200) loss: nan\n",
      "(Iteration 151 / 200) loss: nan\n",
      "(Epoch 4 / 5) train acc: 0.101000; val_acc: 0.087000\n",
      "(Iteration 161 / 200) loss: nan\n",
      "(Iteration 171 / 200) loss: nan\n",
      "(Iteration 181 / 200) loss: nan\n",
      "(Iteration 191 / 200) loss: nan\n",
      "(Epoch 5 / 5) train acc: 0.095000; val_acc: 0.087000\n",
      "\n",
      "running with  sgd_momentum\n",
      "(Iteration 1 / 200) loss: 8.933142\n",
      "(Epoch 0 / 5) train acc: 0.067000; val_acc: 0.102000\n",
      "(Iteration 11 / 200) loss: 2.376730\n",
      "(Iteration 21 / 200) loss: 2.328221\n",
      "(Iteration 31 / 200) loss: 2.285924\n",
      "(Epoch 1 / 5) train acc: 0.106000; val_acc: 0.108000\n",
      "(Iteration 41 / 200) loss: 2.303918\n",
      "(Iteration 51 / 200) loss: 2.302925\n",
      "(Iteration 61 / 200) loss: 2.304473\n",
      "(Iteration 71 / 200) loss: 2.300644\n",
      "(Epoch 2 / 5) train acc: 0.106000; val_acc: 0.105000\n",
      "(Iteration 81 / 200) loss: 2.304082\n",
      "(Iteration 91 / 200) loss: 2.303437\n",
      "(Iteration 101 / 200) loss: 2.301032\n",
      "(Iteration 111 / 200) loss: 2.306591\n",
      "(Epoch 3 / 5) train acc: 0.114000; val_acc: 0.103000\n",
      "(Iteration 121 / 200) loss: 2.299916\n",
      "(Iteration 131 / 200) loss: 2.280664\n",
      "(Iteration 141 / 200) loss: 2.305479\n",
      "(Iteration 151 / 200) loss: 2.305053\n",
      "(Epoch 4 / 5) train acc: 0.111000; val_acc: 0.080000\n",
      "(Iteration 161 / 200) loss: 2.304148\n",
      "(Iteration 171 / 200) loss: 2.290142\n",
      "(Iteration 181 / 200) loss: 2.302196\n",
      "(Iteration 191 / 200) loss: 2.305019\n",
      "(Epoch 5 / 5) train acc: 0.122000; val_acc: 0.079000\n",
      "\n"
     ]
    },
    {
     "name": "stderr",
     "output_type": "stream",
     "text": [
      "c:\\users\\administrator\\appdata\\local\\programs\\python\\python36\\lib\\site-packages\\matplotlib\\cbook\\deprecation.py:106: MatplotlibDeprecationWarning: Adding an axes using the same arguments as a previous axes currently reuses the earlier instance.  In a future version, a new instance will always be created and returned.  Meanwhile, this warning can be suppressed, and the future behavior ensured, by passing a unique label to each axes instance.\n",
      "  warnings.warn(message, mplDeprecation, stacklevel=1)\n"
     ]
    },
    {
     "data": {
      "image/png": "[encoded data removed]",
      "text/plain": [
       "<matplotlib.figure.Figure at 0x11fbffd0>"
      ]
     },
     "metadata": {},
     "output_type": "display_data"
    }
   ],
   "source": [
    "num_train = 4000\n",
    "small_data = {\n",
    "  'X_train': data['X_train'][:num_train],\n",
    "  'y_train': data['y_train'][:num_train],\n",
    "  'X_val': data['X_val'],\n",
    "  'y_val': data['y_val'],\n",
    "}\n",
    "\n",
    "solvers = {}\n",
    "\n",
    "for update_rule in ['sgd', 'sgd_momentum']:\n",
    "  print('running with ', update_rule)\n",
    "  model = FullyConnectedNet([100, 100, 100, 100, 100], weight_scale=5e-2)\n",
    "\n",
    "  solver = Solver(model, small_data,\n",
    "                  num_epochs=5, batch_size=100,\n",
    "                  update_rule=update_rule,\n",
    "                  optim_config={\n",
    "                    'learning_rate': 1e-2,\n",
    "                  },\n",
    "                  verbose=True)\n",
    "  solvers[update_rule] = solver\n",
    "  solver.train()\n",
    "  print()\n",
    "\n",
    "plt.subplot(3, 1, 1)\n",
    "plt.title('Training loss')\n",
    "plt.xlabel('Iteration')\n",
    "\n",
    "plt.subplot(3, 1, 2)\n",
    "plt.title('Training accuracy')\n",
    "plt.xlabel('Epoch')\n",
    "\n",
    "plt.subplot(3, 1, 3)\n",
    "plt.title('Validation accuracy')\n",
    "plt.xlabel('Epoch')\n",
    "\n",
    "for update_rule, solver in list(solvers.items()):\n",
    "  plt.subplot(3, 1, 1)\n",
    "  plt.plot(solver.loss_history, 'o', label=update_rule)\n",
    "  \n",
    "  plt.subplot(3, 1, 2)\n",
    "  plt.plot(solver.train_acc_history, '-o', label=update_rule)\n",
    "\n",
    "  plt.subplot(3, 1, 3)\n",
    "  plt.plot(solver.val_acc_history, '-o', label=update_rule)\n",
    "  \n",
    "for i in [1, 2, 3]:\n",
    "  plt.subplot(3, 1, i)\n",
    "  plt.legend(loc='upper center', ncol=4)\n",
    "plt.gcf().set_size_inches(15, 15)\n",
    "plt.show()"
   ]
  },
  {
   "cell_type": "markdown",
   "metadata": {},
   "source": [
    "# RMSProp and Adam\n",
    "RMSProp [1] and Adam [2] are update rules that set per-parameter learning rates by using a running average of the second moments of gradients.\n",
    "\n",
    "In the file `cs231n/optim.py`, implement the RMSProp update rule in the `rmsprop` function and implement the Adam update rule in the `adam` function, and check your implementations using the tests below.\n",
    "\n",
    "[1] Tijmen Tieleman and Geoffrey Hinton. \"Lecture 6.5-rmsprop: Divide the gradient by a running average of its recent magnitude.\" COURSERA: Neural Networks for Machine Learning 4 (2012).\n",
    "\n",
    "[2] Diederik Kingma and Jimmy Ba, \"Adam: A Method for Stochastic Optimization\", ICLR 2015."
   ]
  },
  {
   "cell_type": "code",
   "execution_count": 73,
   "metadata": {},
   "outputs": [
    {
     "name": "stdout",
     "output_type": "stream",
     "text": [
      "next_w error:  9.50264522989e-08\n",
      "cache error:  2.64779558072e-09\n"
     ]
    }
   ],
   "source": [
    "# Test RMSProp implementation; you should see errors less than 1e-7\n",
    "from cs231n.optim import rmsprop\n",
    "\n",
    "N, D = 4, 5\n",
    "w = np.linspace(-0.4, 0.6, num=N*D).reshape(N, D)\n",
    "dw = np.linspace(-0.6, 0.4, num=N*D).reshape(N, D)\n",
    "cache = np.linspace(0.6, 0.9, num=N*D).reshape(N, D)\n",
    "\n",
    "config = {'learning_rate': 1e-2, 'cache': cache}\n",
    "next_w, _ = rmsprop(w, dw, config=config)\n",
    "\n",
    "expected_next_w = np.asarray([\n",
    "  [-0.39223849, -0.34037513, -0.28849239, -0.23659121, -0.18467247],\n",
    "  [-0.132737,   -0.08078555, -0.02881884,  0.02316247,  0.07515774],\n",
    "  [ 0.12716641,  0.17918792,  0.23122175,  0.28326742,  0.33532447],\n",
    "  [ 0.38739248,  0.43947102,  0.49155973,  0.54365823,  0.59576619]])\n",
    "expected_cache = np.asarray([\n",
    "  [ 0.5976,      0.6126277,   0.6277108,   0.64284931,  0.65804321],\n",
    "  [ 0.67329252,  0.68859723,  0.70395734,  0.71937285,  0.73484377],\n",
    "  [ 0.75037008,  0.7659518,   0.78158892,  0.79728144,  0.81302936],\n",
    "  [ 0.82883269,  0.84469141,  0.86060554,  0.87657507,  0.8926    ]])\n",
    "\n",
    "print('next_w error: ', rel_error(expected_next_w, next_w))\n",
    "print('cache error: ', rel_error(expected_cache, config['cache']))"
   ]
  },
  {
   "cell_type": "code",
   "execution_count": 74,
   "metadata": {},
   "outputs": [
    {
     "name": "stdout",
     "output_type": "stream",
     "text": [
      "next_w error:  1.13956917985e-07\n",
      "v error:  4.20831403811e-09\n",
      "m error:  4.21496319311e-09\n"
     ]
    }
   ],
   "source": [
    "# Test Adam implementation; you should see errors around 1e-7 or less\n",
    "from cs231n.optim import adam\n",
    "\n",
    "N, D = 4, 5\n",
    "w = np.linspace(-0.4, 0.6, num=N*D).reshape(N, D)\n",
    "dw = np.linspace(-0.6, 0.4, num=N*D).reshape(N, D)\n",
    "m = np.linspace(0.6, 0.9, num=N*D).reshape(N, D)\n",
    "v = np.linspace(0.7, 0.5, num=N*D).reshape(N, D)\n",
    "\n",
    "config = {'learning_rate': 1e-2, 'm': m, 'v': v, 't': 5}\n",
    "next_w, _ = adam(w, dw, config=config)\n",
    "\n",
    "expected_next_w = np.asarray([\n",
    "  [-0.40094747, -0.34836187, -0.29577703, -0.24319299, -0.19060977],\n",
    "  [-0.1380274,  -0.08544591, -0.03286534,  0.01971428,  0.0722929],\n",
    "  [ 0.1248705,   0.17744702,  0.23002243,  0.28259667,  0.33516969],\n",
    "  [ 0.38774145,  0.44031188,  0.49288093,  0.54544852,  0.59801459]])\n",
    "expected_v = np.asarray([\n",
    "  [ 0.69966,     0.68908382,  0.67851319,  0.66794809,  0.65738853,],\n",
    "  [ 0.64683452,  0.63628604,  0.6257431,   0.61520571,  0.60467385,],\n",
    "  [ 0.59414753,  0.58362676,  0.57311152,  0.56260183,  0.55209767,],\n",
    "  [ 0.54159906,  0.53110598,  0.52061845,  0.51013645,  0.49966,   ]])\n",
    "expected_m = np.asarray([\n",
    "  [ 0.48,        0.49947368,  0.51894737,  0.53842105,  0.55789474],\n",
    "  [ 0.57736842,  0.59684211,  0.61631579,  0.63578947,  0.65526316],\n",
    "  [ 0.67473684,  0.69421053,  0.71368421,  0.73315789,  0.75263158],\n",
    "  [ 0.77210526,  0.79157895,  0.81105263,  0.83052632,  0.85      ]])\n",
    "\n",
    "print('next_w error: ', rel_error(expected_next_w, next_w))\n",
    "print('v error: ', rel_error(expected_v, config['v']))\n",
    "print('m error: ', rel_error(expected_m, config['m']))"
   ]
  },
  {
   "cell_type": "markdown",
   "metadata": {},
   "source": [
    "Once you have debugged your RMSProp and Adam implementations, run the following to train a pair of deep networks using these new update rules:"
   ]
  },
  {
   "cell_type": "code",
   "execution_count": 75,
   "metadata": {},
   "outputs": [
    {
     "name": "stdout",
     "output_type": "stream",
     "text": [
      "running with  adam\n",
      "(Iteration 1 / 200) loss: 14.488730\n",
      "(Epoch 0 / 5) train acc: 0.080000; val_acc: 0.096000\n",
      "(Iteration 11 / 200) loss: 13.564082\n",
      "(Iteration 21 / 200) loss: 10.244313\n",
      "(Iteration 31 / 200) loss: 10.621829\n",
      "(Epoch 1 / 5) train acc: 0.157000; val_acc: 0.145000\n",
      "(Iteration 41 / 200) loss: 9.956205\n",
      "(Iteration 51 / 200) loss: 11.275924\n",
      "(Iteration 61 / 200) loss: nan\n"
     ]
    },
    {
     "name": "stderr",
     "output_type": "stream",
     "text": [
      "E:\\Computer Science\\机器学习相关\\课程作业\\CS231n-Spring-2017\\Assignment #2 Fully-Connected Nets, Batch Normalization, Dropout, Convolutional Nets\\cs231n\\classifiers\\fc_net.py:290: RuntimeWarning: overflow encountered in exp\n",
      "  softmax_output = np.exp(scores)/np.sum(np.exp(scores),axis=1,keepdims=True)\n",
      "E:\\Computer Science\\机器学习相关\\课程作业\\CS231n-Spring-2017\\Assignment #2 Fully-Connected Nets, Batch Normalization, Dropout, Convolutional Nets\\cs231n\\classifiers\\fc_net.py:290: RuntimeWarning: invalid value encountered in true_divide\n",
      "  softmax_output = np.exp(scores)/np.sum(np.exp(scores),axis=1,keepdims=True)\n",
      "E:\\Computer Science\\机器学习相关\\课程作业\\CS231n-Spring-2017\\Assignment #2 Fully-Connected Nets, Batch Normalization, Dropout, Convolutional Nets\\cs231n\\classifiers\\fc_net.py:264: RuntimeWarning: invalid value encountered in maximum\n",
      "  hidden_layers.append(np.maximum(0,X.dot(self.params['W'+str(l+1)])+self.params['b'+str(l+1)]))\n",
      "E:\\Computer Science\\机器学习相关\\课程作业\\CS231n-Spring-2017\\Assignment #2 Fully-Connected Nets, Batch Normalization, Dropout, Convolutional Nets\\cs231n\\classifiers\\fc_net.py:266: RuntimeWarning: invalid value encountered in maximum\n",
      "  hidden_layers.append(np.maximum(0,hidden_layers[l-2].dot(self.params['W'+str(l+1)])+self.params['b'+str(l+1)]))\n"
     ]
    },
    {
     "name": "stdout",
     "output_type": "stream",
     "text": [
      "(Iteration 71 / 200) loss: nan\n",
      "(Epoch 2 / 5) train acc: 0.080000; val_acc: 0.087000\n",
      "(Iteration 81 / 200) loss: nan\n",
      "(Iteration 91 / 200) loss: nan\n",
      "(Iteration 101 / 200) loss: nan\n",
      "(Iteration 111 / 200) loss: nan\n",
      "(Epoch 3 / 5) train acc: 0.105000; val_acc: 0.087000\n",
      "(Iteration 121 / 200) loss: nan\n",
      "(Iteration 131 / 200) loss: nan\n",
      "(Iteration 141 / 200) loss: nan\n",
      "(Iteration 151 / 200) loss: nan\n",
      "(Epoch 4 / 5) train acc: 0.094000; val_acc: 0.087000\n",
      "(Iteration 161 / 200) loss: nan\n",
      "(Iteration 171 / 200) loss: nan\n",
      "(Iteration 181 / 200) loss: nan\n",
      "(Iteration 191 / 200) loss: nan\n",
      "(Epoch 5 / 5) train acc: 0.083000; val_acc: 0.087000\n",
      "\n",
      "running with  rmsprop\n",
      "(Iteration 1 / 200) loss: 11.085713\n",
      "(Epoch 0 / 5) train acc: 0.081000; val_acc: 0.079000\n",
      "(Iteration 11 / 200) loss: 10.289631\n",
      "(Iteration 21 / 200) loss: 10.490546\n",
      "(Iteration 31 / 200) loss: 10.545736\n",
      "(Epoch 1 / 5) train acc: 0.120000; val_acc: 0.136000\n",
      "(Iteration 41 / 200) loss: 8.984428\n",
      "(Iteration 51 / 200) loss: 9.370402\n"
     ]
    },
    {
     "name": "stderr",
     "output_type": "stream",
     "text": [
      "E:\\Computer Science\\机器学习相关\\课程作业\\CS231n-Spring-2017\\Assignment #2 Fully-Connected Nets, Batch Normalization, Dropout, Convolutional Nets\\cs231n\\classifiers\\fc_net.py:291: RuntimeWarning: divide by zero encountered in log\n",
      "  loss = np.sum(-np.log(softmax_output[range(N),y]))\n"
     ]
    },
    {
     "name": "stdout",
     "output_type": "stream",
     "text": [
      "(Iteration 61 / 200) loss: nan\n",
      "(Iteration 71 / 200) loss: nan\n",
      "(Epoch 2 / 5) train acc: 0.100000; val_acc: 0.087000\n",
      "(Iteration 81 / 200) loss: nan\n",
      "(Iteration 91 / 200) loss: nan\n",
      "(Iteration 101 / 200) loss: nan\n",
      "(Iteration 111 / 200) loss: nan\n",
      "(Epoch 3 / 5) train acc: 0.107000; val_acc: 0.087000\n",
      "(Iteration 121 / 200) loss: nan\n",
      "(Iteration 131 / 200) loss: nan\n",
      "(Iteration 141 / 200) loss: nan\n",
      "(Iteration 151 / 200) loss: nan\n",
      "(Epoch 4 / 5) train acc: 0.079000; val_acc: 0.087000\n",
      "(Iteration 161 / 200) loss: nan\n",
      "(Iteration 171 / 200) loss: nan\n",
      "(Iteration 181 / 200) loss: nan\n",
      "(Iteration 191 / 200) loss: nan\n",
      "(Epoch 5 / 5) train acc: 0.090000; val_acc: 0.087000\n",
      "\n"
     ]
    },
    {
     "name": "stderr",
     "output_type": "stream",
     "text": [
      "c:\\users\\administrator\\appdata\\local\\programs\\python\\python36\\lib\\site-packages\\matplotlib\\cbook\\deprecation.py:106: MatplotlibDeprecationWarning: Adding an axes using the same arguments as a previous axes currently reuses the earlier instance.  In a future version, a new instance will always be created and returned.  Meanwhile, this warning can be suppressed, and the future behavior ensured, by passing a unique label to each axes instance.\n",
      "  warnings.warn(message, mplDeprecation, stacklevel=1)\n"
     ]
    },
    {
     "data": {
      "image/png": "[encoded data removed]",
      "text/plain": [
       "<matplotlib.figure.Figure at 0xaee92b0>"
      ]
     },
     "metadata": {},
     "output_type": "display_data"
    }
   ],
   "source": [
    "learning_rates = {'rmsprop': 1e-4, 'adam': 1e-3}\n",
    "for update_rule in ['adam', 'rmsprop']:\n",
    "  print('running with ', update_rule)\n",
    "  model = FullyConnectedNet([100, 100, 100, 100, 100], weight_scale=5e-2)\n",
    "\n",
    "  solver = Solver(model, small_data,\n",
    "                  num_epochs=5, batch_size=100,\n",
    "                  update_rule=update_rule,\n",
    "                  optim_config={\n",
    "                    'learning_rate': learning_rates[update_rule]\n",
    "                  },\n",
    "                  verbose=True)\n",
    "  solvers[update_rule] = solver\n",
    "  solver.train()\n",
    "  print()\n",
    "\n",
    "plt.subplot(3, 1, 1)\n",
    "plt.title('Training loss')\n",
    "plt.xlabel('Iteration')\n",
    "\n",
    "plt.subplot(3, 1, 2)\n",
    "plt.title('Training accuracy')\n",
    "plt.xlabel('Epoch')\n",
    "\n",
    "plt.subplot(3, 1, 3)\n",
    "plt.title('Validation accuracy')\n",
    "plt.xlabel('Epoch')\n",
    "\n",
    "for update_rule, solver in list(solvers.items()):\n",
    "  plt.subplot(3, 1, 1)\n",
    "  plt.plot(solver.loss_history, 'o', label=update_rule)\n",
    "  \n",
    "  plt.subplot(3, 1, 2)\n",
    "  plt.plot(solver.train_acc_history, '-o', label=update_rule)\n",
    "\n",
    "  plt.subplot(3, 1, 3)\n",
    "  plt.plot(solver.val_acc_history, '-o', label=update_rule)\n",
    "  \n",
    "for i in [1, 2, 3]:\n",
    "  plt.subplot(3, 1, i)\n",
    "  plt.legend(loc='upper center', ncol=4)\n",
    "plt.gcf().set_size_inches(15, 15)\n",
    "plt.show()"
   ]
  },
  {
   "cell_type": "markdown",
   "metadata": {},
   "source": [
    "# Train a good model!\n",
    "Train the best fully-connected model that you can on CIFAR-10, storing your best model in the `best_model` variable. We require you to get at least 50% accuracy on the validation set using a fully-connected net.\n",
    "\n",
    "If you are careful it should be possible to get accuracies above 55%, but we don't require it for this part and won't assign extra credit for doing so. Later in the assignment we will ask you to train the best convolutional network that you can on CIFAR-10, and we would prefer that you spend your effort working on convolutional nets rather than fully-connected nets.\n",
    "\n",
    "You might find it useful to complete the `BatchNormalization.ipynb` and `Dropout.ipynb` notebooks before completing this part, since those techniques can help you train powerful models."
   ]
  },
  {
   "cell_type": "code",
   "execution_count": 79,
   "metadata": {
    "scrolled": false
   },
   "outputs": [
    {
     "name": "stdout",
     "output_type": "stream",
     "text": [
      "(Iteration 1 / 2450) loss: 15.214254\n",
      "(Epoch 0 / 10) train acc: 0.144000; val_acc: 0.146000\n",
      "(Epoch 1 / 10) train acc: 0.408000; val_acc: 0.399000\n",
      "(Epoch 2 / 10) train acc: 0.433000; val_acc: 0.424000\n",
      "(Epoch 3 / 10) train acc: 0.487000; val_acc: 0.441000\n",
      "(Epoch 4 / 10) train acc: 0.506000; val_acc: 0.459000\n",
      "(Iteration 1001 / 2450) loss: 1.384606\n",
      "(Epoch 5 / 10) train acc: 0.498000; val_acc: 0.469000\n",
      "(Epoch 6 / 10) train acc: 0.523000; val_acc: 0.455000\n",
      "(Epoch 7 / 10) train acc: 0.524000; val_acc: 0.486000\n",
      "(Epoch 8 / 10) train acc: 0.543000; val_acc: 0.477000\n",
      "(Iteration 2001 / 2450) loss: 1.341283\n",
      "(Epoch 9 / 10) train acc: 0.557000; val_acc: 0.480000\n",
      "(Epoch 10 / 10) train acc: 0.564000; val_acc: 0.504000\n",
      "(Iteration 1 / 4900) loss: 14.349612\n",
      "(Epoch 0 / 20) train acc: 0.131000; val_acc: 0.125000\n",
      "(Epoch 1 / 20) train acc: 0.406000; val_acc: 0.392000\n",
      "(Epoch 2 / 20) train acc: 0.445000; val_acc: 0.441000\n",
      "(Epoch 3 / 20) train acc: 0.520000; val_acc: 0.454000\n",
      "(Epoch 4 / 20) train acc: 0.514000; val_acc: 0.463000\n",
      "(Iteration 1001 / 4900) loss: 1.416771\n",
      "(Epoch 5 / 20) train acc: 0.538000; val_acc: 0.479000\n",
      "(Epoch 6 / 20) train acc: 0.538000; val_acc: 0.477000\n",
      "(Epoch 7 / 20) train acc: 0.532000; val_acc: 0.495000\n",
      "(Epoch 8 / 20) train acc: 0.534000; val_acc: 0.472000\n",
      "(Iteration 2001 / 4900) loss: 1.232681\n",
      "(Epoch 9 / 20) train acc: 0.577000; val_acc: 0.480000\n",
      "(Epoch 10 / 20) train acc: 0.573000; val_acc: 0.490000\n",
      "(Epoch 11 / 20) train acc: 0.593000; val_acc: 0.498000\n",
      "(Epoch 12 / 20) train acc: 0.559000; val_acc: 0.504000\n",
      "(Iteration 3001 / 4900) loss: 1.235493\n",
      "(Epoch 13 / 20) train acc: 0.605000; val_acc: 0.497000\n",
      "(Epoch 14 / 20) train acc: 0.605000; val_acc: 0.493000\n",
      "(Epoch 15 / 20) train acc: 0.604000; val_acc: 0.482000\n",
      "(Epoch 16 / 20) train acc: 0.608000; val_acc: 0.481000\n",
      "(Iteration 4001 / 4900) loss: 1.209504\n",
      "(Epoch 17 / 20) train acc: 0.624000; val_acc: 0.503000\n",
      "(Epoch 18 / 20) train acc: 0.610000; val_acc: 0.497000\n",
      "(Epoch 19 / 20) train acc: 0.608000; val_acc: 0.508000\n",
      "(Epoch 20 / 20) train acc: 0.636000; val_acc: 0.485000\n",
      "(Iteration 1 / 2450) loss: 19.348206\n",
      "(Epoch 0 / 10) train acc: 0.134000; val_acc: 0.138000\n",
      "(Epoch 1 / 10) train acc: 0.415000; val_acc: 0.376000\n",
      "(Epoch 2 / 10) train acc: 0.445000; val_acc: 0.449000\n",
      "(Epoch 3 / 10) train acc: 0.489000; val_acc: 0.436000\n",
      "(Epoch 4 / 10) train acc: 0.515000; val_acc: 0.469000\n",
      "(Iteration 1001 / 2450) loss: 2.147324\n",
      "(Epoch 5 / 10) train acc: 0.508000; val_acc: 0.464000\n",
      "(Epoch 6 / 10) train acc: 0.486000; val_acc: 0.435000\n",
      "(Epoch 7 / 10) train acc: 0.511000; val_acc: 0.489000\n",
      "(Epoch 8 / 10) train acc: 0.516000; val_acc: 0.448000\n",
      "(Iteration 2001 / 2450) loss: 1.599474\n",
      "(Epoch 9 / 10) train acc: 0.524000; val_acc: 0.462000\n",
      "(Epoch 10 / 10) train acc: 0.507000; val_acc: 0.490000\n",
      "(Iteration 1 / 4900) loss: 16.876162\n",
      "(Epoch 0 / 20) train acc: 0.132000; val_acc: 0.140000\n",
      "(Epoch 1 / 20) train acc: 0.405000; val_acc: 0.394000\n",
      "(Epoch 2 / 20) train acc: 0.468000; val_acc: 0.435000\n",
      "(Epoch 3 / 20) train acc: 0.493000; val_acc: 0.451000\n",
      "(Epoch 4 / 20) train acc: 0.491000; val_acc: 0.453000\n",
      "(Iteration 1001 / 4900) loss: 1.962944\n",
      "(Epoch 5 / 20) train acc: 0.469000; val_acc: 0.460000\n",
      "(Epoch 6 / 20) train acc: 0.528000; val_acc: 0.467000\n",
      "(Epoch 7 / 20) train acc: 0.514000; val_acc: 0.478000\n",
      "(Epoch 8 / 20) train acc: 0.526000; val_acc: 0.461000\n",
      "(Iteration 2001 / 4900) loss: 1.513156\n",
      "(Epoch 9 / 20) train acc: 0.523000; val_acc: 0.469000\n",
      "(Epoch 10 / 20) train acc: 0.502000; val_acc: 0.488000\n",
      "(Epoch 11 / 20) train acc: 0.540000; val_acc: 0.481000\n",
      "(Epoch 12 / 20) train acc: 0.489000; val_acc: 0.461000\n",
      "(Iteration 3001 / 4900) loss: 1.515770\n",
      "(Epoch 13 / 20) train acc: 0.539000; val_acc: 0.477000\n",
      "(Epoch 14 / 20) train acc: 0.512000; val_acc: 0.482000\n",
      "(Epoch 15 / 20) train acc: 0.506000; val_acc: 0.471000\n",
      "(Epoch 16 / 20) train acc: 0.516000; val_acc: 0.498000\n",
      "(Iteration 4001 / 4900) loss: 1.393510\n",
      "(Epoch 17 / 20) train acc: 0.507000; val_acc: 0.460000\n",
      "(Epoch 18 / 20) train acc: 0.530000; val_acc: 0.477000\n",
      "(Epoch 19 / 20) train acc: 0.502000; val_acc: 0.479000\n",
      "(Epoch 20 / 20) train acc: 0.504000; val_acc: 0.473000\n",
      "(Iteration 1 / 2450) loss: inf\n",
      "(Epoch 0 / 10) train acc: 0.103000; val_acc: 0.087000\n"
     ]
    },
    {
     "name": "stderr",
     "output_type": "stream",
     "text": [
      "E:\\Computer Science\\机器学习相关\\课程作业\\CS231n-Spring-2017\\Assignment #2 Fully-Connected Nets, Batch Normalization, Dropout, Convolutional Nets\\cs231n\\classifiers\\fc_net.py:290: RuntimeWarning: overflow encountered in exp\n",
      "  softmax_output = np.exp(scores)/np.sum(np.exp(scores),axis=1,keepdims=True)\n",
      "E:\\Computer Science\\机器学习相关\\课程作业\\CS231n-Spring-2017\\Assignment #2 Fully-Connected Nets, Batch Normalization, Dropout, Convolutional Nets\\cs231n\\classifiers\\fc_net.py:290: RuntimeWarning: invalid value encountered in true_divide\n",
      "  softmax_output = np.exp(scores)/np.sum(np.exp(scores),axis=1,keepdims=True)\n",
      "E:\\Computer Science\\机器学习相关\\课程作业\\CS231n-Spring-2017\\Assignment #2 Fully-Connected Nets, Batch Normalization, Dropout, Convolutional Nets\\cs231n\\classifiers\\fc_net.py:291: RuntimeWarning: divide by zero encountered in log\n",
      "  loss = np.sum(-np.log(softmax_output[range(N),y]))\n",
      "E:\\Computer Science\\机器学习相关\\课程作业\\CS231n-Spring-2017\\Assignment #2 Fully-Connected Nets, Batch Normalization, Dropout, Convolutional Nets\\cs231n\\classifiers\\fc_net.py:264: RuntimeWarning: invalid value encountered in maximum\n",
      "  hidden_layers.append(np.maximum(0,X.dot(self.params['W'+str(l+1)])+self.params['b'+str(l+1)]))\n",
      "E:\\Computer Science\\机器学习相关\\课程作业\\CS231n-Spring-2017\\Assignment #2 Fully-Connected Nets, Batch Normalization, Dropout, Convolutional Nets\\cs231n\\classifiers\\fc_net.py:266: RuntimeWarning: invalid value encountered in maximum\n",
      "  hidden_layers.append(np.maximum(0,hidden_layers[l-2].dot(self.params['W'+str(l+1)])+self.params['b'+str(l+1)]))\n"
     ]
    },
    {
     "name": "stdout",
     "output_type": "stream",
     "text": [
      "(Epoch 1 / 10) train acc: 0.106000; val_acc: 0.087000\n",
      "(Epoch 2 / 10) train acc: 0.103000; val_acc: 0.087000\n",
      "(Epoch 3 / 10) train acc: 0.111000; val_acc: 0.087000\n",
      "(Epoch 4 / 10) train acc: 0.095000; val_acc: 0.087000\n",
      "(Iteration 1001 / 2450) loss: nan\n",
      "(Epoch 5 / 10) train acc: 0.108000; val_acc: 0.087000\n",
      "(Epoch 6 / 10) train acc: 0.090000; val_acc: 0.087000\n",
      "(Epoch 7 / 10) train acc: 0.086000; val_acc: 0.087000\n",
      "(Epoch 8 / 10) train acc: 0.092000; val_acc: 0.087000\n",
      "(Iteration 2001 / 2450) loss: nan\n",
      "(Epoch 9 / 10) train acc: 0.108000; val_acc: 0.087000\n",
      "(Epoch 10 / 10) train acc: 0.094000; val_acc: 0.087000\n",
      "(Iteration 1 / 4900) loss: nan\n",
      "(Epoch 0 / 20) train acc: 0.120000; val_acc: 0.087000\n",
      "(Epoch 1 / 20) train acc: 0.101000; val_acc: 0.087000\n",
      "(Epoch 2 / 20) train acc: 0.107000; val_acc: 0.087000\n",
      "(Epoch 3 / 20) train acc: 0.105000; val_acc: 0.087000\n",
      "(Epoch 4 / 20) train acc: 0.104000; val_acc: 0.087000\n",
      "(Iteration 1001 / 4900) loss: nan\n",
      "(Epoch 5 / 20) train acc: 0.096000; val_acc: 0.087000\n",
      "(Epoch 6 / 20) train acc: 0.106000; val_acc: 0.087000\n",
      "(Epoch 7 / 20) train acc: 0.095000; val_acc: 0.087000\n",
      "(Epoch 8 / 20) train acc: 0.104000; val_acc: 0.087000\n",
      "(Iteration 2001 / 4900) loss: nan\n",
      "(Epoch 9 / 20) train acc: 0.097000; val_acc: 0.087000\n",
      "(Epoch 10 / 20) train acc: 0.114000; val_acc: 0.087000\n",
      "(Epoch 11 / 20) train acc: 0.098000; val_acc: 0.087000\n",
      "(Epoch 12 / 20) train acc: 0.112000; val_acc: 0.087000\n",
      "(Iteration 3001 / 4900) loss: nan\n",
      "(Epoch 13 / 20) train acc: 0.089000; val_acc: 0.087000\n",
      "(Epoch 14 / 20) train acc: 0.076000; val_acc: 0.087000\n",
      "(Epoch 15 / 20) train acc: 0.099000; val_acc: 0.087000\n",
      "(Epoch 16 / 20) train acc: 0.097000; val_acc: 0.087000\n",
      "(Iteration 4001 / 4900) loss: nan\n",
      "(Epoch 17 / 20) train acc: 0.087000; val_acc: 0.087000\n",
      "(Epoch 18 / 20) train acc: 0.100000; val_acc: 0.087000\n",
      "(Epoch 19 / 20) train acc: 0.100000; val_acc: 0.087000\n",
      "(Epoch 20 / 20) train acc: 0.101000; val_acc: 0.087000\n",
      "(Iteration 1 / 2450) loss: inf\n",
      "(Epoch 0 / 10) train acc: 0.156000; val_acc: 0.149000\n",
      "(Epoch 1 / 10) train acc: 0.092000; val_acc: 0.087000\n",
      "(Epoch 2 / 10) train acc: 0.099000; val_acc: 0.087000\n",
      "(Epoch 3 / 10) train acc: 0.091000; val_acc: 0.087000\n",
      "(Epoch 4 / 10) train acc: 0.096000; val_acc: 0.087000\n",
      "(Iteration 1001 / 2450) loss: nan\n",
      "(Epoch 5 / 10) train acc: 0.105000; val_acc: 0.087000\n",
      "(Epoch 6 / 10) train acc: 0.097000; val_acc: 0.087000\n",
      "(Epoch 7 / 10) train acc: 0.100000; val_acc: 0.087000\n",
      "(Epoch 8 / 10) train acc: 0.081000; val_acc: 0.087000\n",
      "(Iteration 2001 / 2450) loss: nan\n",
      "(Epoch 9 / 10) train acc: 0.091000; val_acc: 0.087000\n",
      "(Epoch 10 / 10) train acc: 0.092000; val_acc: 0.087000\n",
      "(Iteration 1 / 4900) loss: nan\n",
      "(Epoch 0 / 20) train acc: 0.109000; val_acc: 0.087000\n",
      "(Epoch 1 / 20) train acc: 0.108000; val_acc: 0.087000\n",
      "(Epoch 2 / 20) train acc: 0.102000; val_acc: 0.087000\n",
      "(Epoch 3 / 20) train acc: 0.095000; val_acc: 0.087000\n",
      "(Epoch 4 / 20) train acc: 0.095000; val_acc: 0.087000\n",
      "(Iteration 1001 / 4900) loss: nan\n",
      "(Epoch 5 / 20) train acc: 0.091000; val_acc: 0.087000\n",
      "(Epoch 6 / 20) train acc: 0.106000; val_acc: 0.087000\n",
      "(Epoch 7 / 20) train acc: 0.101000; val_acc: 0.087000\n",
      "(Epoch 8 / 20) train acc: 0.084000; val_acc: 0.087000\n",
      "(Iteration 2001 / 4900) loss: nan\n",
      "(Epoch 9 / 20) train acc: 0.120000; val_acc: 0.087000\n",
      "(Epoch 10 / 20) train acc: 0.099000; val_acc: 0.087000\n",
      "(Epoch 11 / 20) train acc: 0.109000; val_acc: 0.087000\n",
      "(Epoch 12 / 20) train acc: 0.097000; val_acc: 0.087000\n",
      "(Iteration 3001 / 4900) loss: nan\n",
      "(Epoch 13 / 20) train acc: 0.110000; val_acc: 0.087000\n",
      "(Epoch 14 / 20) train acc: 0.095000; val_acc: 0.087000\n",
      "(Epoch 15 / 20) train acc: 0.112000; val_acc: 0.087000\n",
      "(Epoch 16 / 20) train acc: 0.103000; val_acc: 0.087000\n",
      "(Iteration 4001 / 4900) loss: nan\n",
      "(Epoch 17 / 20) train acc: 0.100000; val_acc: 0.087000\n",
      "(Epoch 18 / 20) train acc: 0.104000; val_acc: 0.087000\n",
      "(Epoch 19 / 20) train acc: 0.096000; val_acc: 0.087000\n",
      "(Epoch 20 / 20) train acc: 0.099000; val_acc: 0.087000\n",
      "best validation accuracy achieved during cross-validation: 0.508000\n"
     ]
    }
   ],
   "source": [
    "best_model = None\n",
    "best_val = -1\n",
    "################################################################################\n",
    "# TODO: Train the best FullyConnectedNet that you can on CIFAR-10. You might   #\n",
    "# batch normalization and dropout useful. Store your best model in the         #\n",
    "# best_model variable.                                                         #\n",
    "################################################################################\n",
    "lr = 1e-03\n",
    "regularization_strengths = [1e-4,1e-2]\n",
    "numer_of_training_epochs = [10,20]\n",
    "hidden_dims = [[100, 100],[200,200]]\n",
    "\n",
    "for hd in hidden_dims:\n",
    "    for rs in regularization_strengths:\n",
    "            for iterations in numer_of_training_epochs:\n",
    "                net =FullyConnectedNet(hd, weight_scale = 4e-2, reg=rs, use_batchnorm=True)\n",
    "                solver = Solver(net, data,\n",
    "                                num_epochs=iterations, batch_size=200,\n",
    "                                update_rule='adam',\n",
    "                                optim_config={\n",
    "                                    'learning_rate': lr,\n",
    "                                },\n",
    "                                verbose=True, print_every=1000)\n",
    "                solver.train()\n",
    "                validation_accuracy = solver.best_val_acc\n",
    "                if validation_accuracy > best_val:\n",
    "                    best_model = net\n",
    "                    best_val = validation_accuracy\n",
    "       \n",
    "print('best validation accuracy achieved during cross-validation: %f' % best_val) \n",
    "\n",
    "\n",
    "################################################################################\n",
    "#                              END OF YOUR CODE                                #\n",
    "################################################################################"
   ]
  },
  {
   "cell_type": "markdown",
   "metadata": {},
   "source": [
    "# Test you model\n",
    "Run your best model on the validation and test sets. You should achieve above 50% accuracy on the validation set."
   ]
  },
  {
   "cell_type": "code",
   "execution_count": 80,
   "metadata": {},
   "outputs": [
    {
     "name": "stdout",
     "output_type": "stream",
     "text": [
      "Validation set accuracy:  0.508\n",
      "Test set accuracy:  0.492\n"
     ]
    }
   ],
   "source": [
    "y_test_pred = np.argmax(best_model.loss(data['X_test']), axis=1)\n",
    "y_val_pred = np.argmax(best_model.loss(data['X_val']), axis=1)\n",
    "print('Validation set accuracy: ', (y_val_pred == data['y_val']).mean())\n",
    "print('Test set accuracy: ', (y_test_pred == data['y_test']).mean())"
   ]
  },
  {
   "cell_type": "code",
   "execution_count": null,
   "metadata": {},
   "outputs": [],
   "source": []
  }
 ],
 "metadata": {
  "kernelspec": {
   "display_name": "Python 3",
   "language": "python",
   "name": "python3"
  },
  "language_info": {
   "codemirror_mode": {
    "name": "ipython",
    "version": 3
   },
   "file_extension": ".py",
   "mimetype": "text/x-python",
   "name": "python",
   "nbconvert_exporter": "python",
   "pygments_lexer": "ipython3",
   "version": "3.6.2rc1"
  }
 },
 "nbformat": 4,
 "nbformat_minor": 1
}
